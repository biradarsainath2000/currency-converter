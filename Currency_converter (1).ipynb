{
  "nbformat": 4,
  "nbformat_minor": 0,
  "metadata": {
    "colab": {
      "provenance": []
    },
    "kernelspec": {
      "name": "python3",
      "display_name": "Python 3"
    },
    "language_info": {
      "name": "python"
    }
  },
  "cells": [
    {
      "cell_type": "code",
      "source": [
        "!pip install requests\n"
      ],
      "metadata": {
        "colab": {
          "base_uri": "https://localhost:8080/"
        },
        "id": "fyWRc9ED7jEP",
        "outputId": "abcfc0b8-9ceb-421b-fce1-9b226921280e"
      },
      "execution_count": null,
      "outputs": [
        {
          "output_type": "stream",
          "name": "stdout",
          "text": [
            "Requirement already satisfied: requests in /usr/local/lib/python3.10/dist-packages (2.32.3)\n",
            "Requirement already satisfied: charset-normalizer<4,>=2 in /usr/local/lib/python3.10/dist-packages (from requests) (3.4.0)\n",
            "Requirement already satisfied: idna<4,>=2.5 in /usr/local/lib/python3.10/dist-packages (from requests) (3.10)\n",
            "Requirement already satisfied: urllib3<3,>=1.21.1 in /usr/local/lib/python3.10/dist-packages (from requests) (2.2.3)\n",
            "Requirement already satisfied: certifi>=2017.4.17 in /usr/local/lib/python3.10/dist-packages (from requests) (2024.8.30)\n"
          ]
        }
      ]
    },
    {
      "cell_type": "code",
      "source": [
        "import requests\n",
        "\n",
        "# Step 1: Get exchange rates\n",
        "def get_exchange_rate(api_key, base_currency):\n",
        "    url = f\"https://v6.exchangerate-api.com/v6/eb79ebb18c624ea11d6116d6/latest/USD\"\n",
        "    response = requests.get(url)\n",
        "    if response.status_code == 200:\n",
        "        data = response.json()\n",
        "        return data['conversion_rates']\n",
        "    else:\n",
        "        raise Exception(\"Error fetching exchange rates\")"
      ],
      "metadata": {
        "id": "6jnwxBAx8e9n"
      },
      "execution_count": null,
      "outputs": []
    },
    {
      "cell_type": "code",
      "source": [
        "# Step 2: Convert amount\n",
        "def convert_currency(amount, from_currency, to_currency, rates):\n",
        "    if from_currency != 'USD':\n",
        "        # First, convert the amount from the input currency to USD\n",
        "        amount_in_usd = amount / rates[from_currency]\n",
        "    else:\n",
        "        amount_in_usd = amount\n",
        "\n",
        "    # Then, convert the USD amount to the target currency\n",
        "    converted_amount = amount_in_usd * rates[to_currency]\n",
        "    return converted_amount"
      ],
      "metadata": {
        "id": "Wc2kqYww8iIU"
      },
      "execution_count": null,
      "outputs": []
    },
    {
      "cell_type": "code",
      "source": [
        "# Main function to handle input and output\n",
        "def main():\n",
        "    api_key = 'eb79ebb18c624ea11d6116d6'  # Replace with your actual API key (https://app.exchangerate-api.com/dashboard/confirmed)\n",
        "    base_currency = 'USD'  # The base currency for the exchange rates\n",
        "\n",
        "    try:\n",
        "        rates = get_exchange_rate(api_key, base_currency)\n",
        "        print(\"Exchange rates fetched successfully.\")\n",
        "\n",
        "        # User input\n",
        "        amount = float(input(\"Enter amount to convert: \"))\n",
        "        from_currency = input(\"Enter the currency you are converting from (e.g., EUR, GBP, JPY): \").upper()\n",
        "        to_currency = input(\"Enter the currency you are converting to: \").upper()\n",
        "\n",
        "        # Perform conversion\n",
        "        converted_amount = convert_currency(amount, from_currency, to_currency, rates)\n",
        "\n",
        "        print(f\"{amount} {from_currency} = {converted_amount:.2f} {to_currency}\")\n",
        "\n",
        "    except Exception as e:\n",
        "        print(f\"Error: {e}\")\n",
        "\n",
        "if __name__ == \"__main__\":\n",
        "    main()"
      ],
      "metadata": {
        "colab": {
          "base_uri": "https://localhost:8080/"
        },
        "id": "7_g61dIr8mkS",
        "outputId": "3b6b0aa6-7489-4896-e829-2a8e1c6907db"
      },
      "execution_count": null,
      "outputs": [
        {
          "output_type": "stream",
          "name": "stdout",
          "text": [
            "Exchange rates fetched successfully.\n",
            "Enter amount to convert: 20\n",
            "Enter the currency you are converting from (e.g., EUR, GBP, JPY): EUR\n",
            "Enter the currency you are converting to: GBP\n",
            "20.0 EUR = 16.65 GBP\n"
          ]
        }
      ]
    }
  ]
}